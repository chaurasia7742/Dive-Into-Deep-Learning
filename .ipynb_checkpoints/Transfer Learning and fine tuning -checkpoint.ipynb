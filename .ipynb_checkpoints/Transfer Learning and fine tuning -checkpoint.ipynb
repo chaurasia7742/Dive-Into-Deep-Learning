{
 "cells": [
  {
   "cell_type": "code",
   "execution_count": 2,
   "id": "foreign-administration",
   "metadata": {},
   "outputs": [],
   "source": [
    "import tensorflow as tf \n",
    "# physical_devices = tf.config.list_physical_devices('GPU') \n",
    "# tf.config.experimental.set_memory_growth(physical_devices[0], True)"
   ]
  },
  {
   "cell_type": "code",
   "execution_count": 3,
   "id": "printable-promotion",
   "metadata": {},
   "outputs": [],
   "source": [
    "import matplotlib.pyplot as plt \n",
    "import numpy as np\n",
    "import os\n",
    "# import tensorflow as tf "
   ]
  },
  {
   "cell_type": "code",
   "execution_count": 10,
   "id": "detailed-toner",
   "metadata": {},
   "outputs": [
    {
     "name": "stdout",
     "output_type": "stream",
     "text": [
      "Collecting tf-nightly\n",
      "  Downloading tf_nightly-2.5.0.dev20210326-cp36-cp36m-win_amd64.whl (338.9 MB)\n",
      "Requirement already satisfied: six~=1.15.0 in c:\\users\\shashwat\\miniconda3\\envs\\beginner\\lib\\site-packages (from tf-nightly) (1.15.0)\n",
      "Collecting tb-nightly~=2.5.0.a\n",
      "  Downloading tb_nightly-2.5.0a20210327-py3-none-any.whl (6.0 MB)\n",
      "Collecting flatbuffers~=1.12.0\n",
      "  Using cached flatbuffers-1.12-py2.py3-none-any.whl (15 kB)\n",
      "Requirement already satisfied: numpy~=1.19.2 in c:\\users\\shashwat\\miniconda3\\envs\\beginner\\lib\\site-packages (from tf-nightly) (1.19.2)\n",
      "Collecting h5py~=3.1.0\n",
      "  Downloading h5py-3.1.0-cp36-cp36m-win_amd64.whl (2.7 MB)\n",
      "Requirement already satisfied: protobuf>=3.9.2 in c:\\users\\shashwat\\miniconda3\\envs\\beginner\\lib\\site-packages (from tf-nightly) (3.14.0)\n",
      "Requirement already satisfied: wheel~=0.35 in c:\\users\\shashwat\\miniconda3\\envs\\beginner\\lib\\site-packages (from tf-nightly) (0.36.2)\n",
      "Collecting astunparse~=1.6.3\n",
      "  Using cached astunparse-1.6.3-py2.py3-none-any.whl (12 kB)\n",
      "Collecting gast==0.4.0\n",
      "  Downloading gast-0.4.0-py3-none-any.whl (9.8 kB)\n",
      "Requirement already satisfied: wrapt~=1.12.1 in c:\\users\\shashwat\\miniconda3\\envs\\beginner\\lib\\site-packages (from tf-nightly) (1.12.1)\n",
      "Collecting tf-estimator-nightly~=2.5.0.dev\n",
      "  Downloading tf_estimator_nightly-2.5.0.dev2021032601-py2.py3-none-any.whl (462 kB)\n",
      "Collecting keras-nightly~=2.5.0.dev\n",
      "  Downloading keras_nightly-2.5.0.dev2021032700-py2.py3-none-any.whl (1.2 MB)\n",
      "Requirement already satisfied: typing-extensions~=3.7.4 in c:\\users\\shashwat\\miniconda3\\envs\\beginner\\lib\\site-packages (from tf-nightly) (3.7.4.3)\n",
      "Collecting grpcio~=1.34.0\n",
      "  Downloading grpcio-1.34.1-cp36-cp36m-win_amd64.whl (2.9 MB)\n",
      "Collecting opt-einsum~=3.3.0\n",
      "  Using cached opt_einsum-3.3.0-py3-none-any.whl (65 kB)\n",
      "Requirement already satisfied: termcolor~=1.1.0 in c:\\users\\shashwat\\miniconda3\\envs\\beginner\\lib\\site-packages (from tf-nightly) (1.1.0)\n",
      "Requirement already satisfied: keras-preprocessing~=1.1.2 in c:\\users\\shashwat\\miniconda3\\envs\\beginner\\lib\\site-packages (from tf-nightly) (1.1.2)\n",
      "Requirement already satisfied: google-pasta~=0.2 in c:\\users\\shashwat\\miniconda3\\envs\\beginner\\lib\\site-packages (from tf-nightly) (0.2.0)\n",
      "Requirement already satisfied: absl-py~=0.10 in c:\\users\\shashwat\\miniconda3\\envs\\beginner\\lib\\site-packages (from tf-nightly) (0.12.0)\n",
      "Collecting cached-property\n",
      "  Downloading cached_property-1.5.2-py2.py3-none-any.whl (7.6 kB)\n",
      "Collecting tensorboard-data-server<0.7.0,>=0.6.0\n",
      "  Downloading tensorboard_data_server-0.6.0-py3-none-any.whl (2.3 kB)\n",
      "Requirement already satisfied: markdown>=2.6.8 in c:\\users\\shashwat\\miniconda3\\envs\\beginner\\lib\\site-packages (from tb-nightly~=2.5.0.a->tf-nightly) (3.3.4)\n",
      "Requirement already satisfied: werkzeug>=0.11.15 in c:\\users\\shashwat\\miniconda3\\envs\\beginner\\lib\\site-packages (from tb-nightly~=2.5.0.a->tf-nightly) (0.16.1)\n",
      "Requirement already satisfied: requests<3,>=2.21.0 in c:\\users\\shashwat\\miniconda3\\envs\\beginner\\lib\\site-packages (from tb-nightly~=2.5.0.a->tf-nightly) (2.25.1)\n",
      "Requirement already satisfied: google-auth<2,>=1.6.3 in c:\\users\\shashwat\\miniconda3\\envs\\beginner\\lib\\site-packages (from tb-nightly~=2.5.0.a->tf-nightly) (1.28.0)\n",
      "Requirement already satisfied: google-auth-oauthlib<0.5,>=0.4.1 in c:\\users\\shashwat\\miniconda3\\envs\\beginner\\lib\\site-packages (from tb-nightly~=2.5.0.a->tf-nightly) (0.4.3)\n",
      "Requirement already satisfied: tensorboard-plugin-wit>=1.6.0 in c:\\users\\shashwat\\miniconda3\\envs\\beginner\\lib\\site-packages (from tb-nightly~=2.5.0.a->tf-nightly) (1.6.0)\n",
      "Requirement already satisfied: setuptools>=41.0.0 in c:\\users\\shashwat\\miniconda3\\envs\\beginner\\lib\\site-packages (from tb-nightly~=2.5.0.a->tf-nightly) (52.0.0.post20210125)\n",
      "Requirement already satisfied: pyasn1-modules>=0.2.1 in c:\\users\\shashwat\\miniconda3\\envs\\beginner\\lib\\site-packages (from google-auth<2,>=1.6.3->tb-nightly~=2.5.0.a->tf-nightly) (0.2.8)\n",
      "Requirement already satisfied: cachetools<5.0,>=2.0.0 in c:\\users\\shashwat\\miniconda3\\envs\\beginner\\lib\\site-packages (from google-auth<2,>=1.6.3->tb-nightly~=2.5.0.a->tf-nightly) (4.2.1)\n",
      "Requirement already satisfied: rsa<5,>=3.1.4 in c:\\users\\shashwat\\miniconda3\\envs\\beginner\\lib\\site-packages (from google-auth<2,>=1.6.3->tb-nightly~=2.5.0.a->tf-nightly) (4.7.2)\n",
      "Requirement already satisfied: requests-oauthlib>=0.7.0 in c:\\users\\shashwat\\miniconda3\\envs\\beginner\\lib\\site-packages (from google-auth-oauthlib<0.5,>=0.4.1->tb-nightly~=2.5.0.a->tf-nightly) (1.3.0)\n",
      "Requirement already satisfied: importlib-metadata in c:\\users\\shashwat\\miniconda3\\envs\\beginner\\lib\\site-packages (from markdown>=2.6.8->tb-nightly~=2.5.0.a->tf-nightly) (3.7.3)\n",
      "Requirement already satisfied: pyasn1<0.5.0,>=0.4.6 in c:\\users\\shashwat\\miniconda3\\envs\\beginner\\lib\\site-packages (from pyasn1-modules>=0.2.1->google-auth<2,>=1.6.3->tb-nightly~=2.5.0.a->tf-nightly) (0.4.8)\n",
      "Requirement already satisfied: idna<3,>=2.5 in c:\\users\\shashwat\\miniconda3\\envs\\beginner\\lib\\site-packages (from requests<3,>=2.21.0->tb-nightly~=2.5.0.a->tf-nightly) (2.10)\n",
      "Requirement already satisfied: urllib3<1.27,>=1.21.1 in c:\\users\\shashwat\\miniconda3\\envs\\beginner\\lib\\site-packages (from requests<3,>=2.21.0->tb-nightly~=2.5.0.a->tf-nightly) (1.26.4)\n",
      "Requirement already satisfied: chardet<5,>=3.0.2 in c:\\users\\shashwat\\miniconda3\\envs\\beginner\\lib\\site-packages (from requests<3,>=2.21.0->tb-nightly~=2.5.0.a->tf-nightly) (3.0.4)\n",
      "Requirement already satisfied: certifi>=2017.4.17 in c:\\users\\shashwat\\miniconda3\\envs\\beginner\\lib\\site-packages (from requests<3,>=2.21.0->tb-nightly~=2.5.0.a->tf-nightly) (2020.12.5)\n",
      "Requirement already satisfied: oauthlib>=3.0.0 in c:\\users\\shashwat\\miniconda3\\envs\\beginner\\lib\\site-packages (from requests-oauthlib>=0.7.0->google-auth-oauthlib<0.5,>=0.4.1->tb-nightly~=2.5.0.a->tf-nightly) (3.1.0)\n",
      "Requirement already satisfied: zipp>=0.5 in c:\\users\\shashwat\\miniconda3\\envs\\beginner\\lib\\site-packages (from importlib-metadata->markdown>=2.6.8->tb-nightly~=2.5.0.a->tf-nightly) (3.4.1)\n",
      "Installing collected packages: tensorboard-data-server, grpcio, cached-property, tf-estimator-nightly, tb-nightly, opt-einsum, keras-nightly, h5py, gast, flatbuffers, astunparse, tf-nightly\n",
      "  Attempting uninstall: grpcio\n",
      "    Found existing installation: grpcio 1.36.1\n",
      "    Uninstalling grpcio-1.36.1:\n",
      "      Successfully uninstalled grpcio-1.36.1\n",
      "  Attempting uninstall: opt-einsum\n",
      "    Found existing installation: opt-einsum 3.1.0\n",
      "    Uninstalling opt-einsum-3.1.0:\n",
      "      Successfully uninstalled opt-einsum-3.1.0\n",
      "  Attempting uninstall: h5py\n",
      "    Found existing installation: h5py 2.10.0\n",
      "    Uninstalling h5py-2.10.0:\n",
      "      Successfully uninstalled h5py-2.10.0\n"
     ]
    },
    {
     "name": "stderr",
     "output_type": "stream",
     "text": [
      "ERROR: Could not install packages due to an OSError: [WinError 5] Access is denied: 'c:\\\\users\\\\shashwat\\\\miniconda3\\\\envs\\\\beginner\\\\lib\\\\site-packages\\\\~5py\\\\defs.cp36-win_amd64.pyd'\n",
      "Consider using the `--user` option or check the permissions.\n",
      "\n"
     ]
    }
   ],
   "source": [
    "# !pip install tf-nightly"
   ]
  },
  {
   "cell_type": "code",
   "execution_count": 4,
   "id": "supreme-livestock",
   "metadata": {},
   "outputs": [],
   "source": [
    "from tensorflow.keras.preprocessing import image_dataset_from_directory"
   ]
  },
  {
   "cell_type": "code",
   "execution_count": null,
   "id": "verified-customs",
   "metadata": {},
   "outputs": [],
   "source": []
  }
 ],
 "metadata": {
  "kernelspec": {
   "display_name": "Python 3",
   "language": "python",
   "name": "python3"
  },
  "language_info": {
   "codemirror_mode": {
    "name": "ipython",
    "version": 3
   },
   "file_extension": ".py",
   "mimetype": "text/x-python",
   "name": "python",
   "nbconvert_exporter": "python",
   "pygments_lexer": "ipython3",
   "version": "3.6.13"
  }
 },
 "nbformat": 4,
 "nbformat_minor": 5
}
